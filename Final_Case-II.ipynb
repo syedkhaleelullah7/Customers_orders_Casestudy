{
 "cells": [
  {
   "cell_type": "markdown",
   "metadata": {},
   "source": [
    "# Customers Orders Case study - II\n",
    "\n",
    "### Syed Khaleelullah"
   ]
  },
  {
   "cell_type": "markdown",
   "metadata": {},
   "source": [
    "### For each year we need the following information:\n",
    "\n",
    "1. Total revenue for the current year\n",
    "2. New Customer Revenue e.g., new customers not present in previous year only\n",
    "3. Existing Customer Growth. To calculate this, use the Revenue of existing customers for current year –(minus) Revenue of existing customers from the previous year\n",
    "4. Revenue lost from attrition\n",
    "5. Existing Customer Revenue Current Year\n",
    "6. Existing Customer Revenue Prior Year\n",
    "7. Total Customers Current Year\n",
    "8. Total Customers Previous Year\n",
    "9. New Customers\n",
    "10. Lost Customers"
   ]
  },
  {
   "cell_type": "code",
   "execution_count": 1,
   "metadata": {},
   "outputs": [],
   "source": [
    "#Let's import the libraries\n",
    "import sqlite3\n",
    "import pandas as pd"
   ]
  },
  {
   "cell_type": "code",
   "execution_count": 2,
   "metadata": {},
   "outputs": [],
   "source": [
    "conn = sqlite3.connect('test.db')\n",
    "cursor = conn.cursor()\n",
    "\n",
    "cursor.execute('''DROP TABLE CASESTUDY''')\n",
    "\n",
    "cursor.execute('''CREATE TABLE CASESTUDY (customer_email CHAR(255), net_revenue FLOAT, YEAR INTEGER)''')\n",
    "\n",
    "conn.commit()"
   ]
  },
  {
   "cell_type": "code",
   "execution_count": 3,
   "metadata": {},
   "outputs": [],
   "source": [
    "# read csv to dataframe and then to CUSTOMER table in database\n",
    "read_data = pd.read_csv('casestudy.csv', usecols=['customer_email','net_revenue','year'])\n",
    "read_data.to_sql('CASESTUDY', conn, if_exists='append', index = False)\n",
    "conn.commit()"
   ]
  },
  {
   "cell_type": "markdown",
   "metadata": {},
   "source": [
    "1. Total Revenue for the current year"
   ]
  },
  {
   "cell_type": "code",
   "execution_count": 4,
   "metadata": {},
   "outputs": [
    {
     "name": "stdout",
     "output_type": "stream",
     "text": [
      "Total Revenue for 2017: $ [(31417495.03,)]\n"
     ]
    }
   ],
   "source": [
    "# total revenue for current year (2017)\n",
    "cursor.execute('''\n",
    "SELECT round(sum(net_revenue), 2) FROM CASESTUDY WHERE year = 2017\n",
    "''')\n",
    "\n",
    "print(\"Total Revenue for 2017: $\",cursor.fetchall())"
   ]
  },
  {
   "cell_type": "markdown",
   "metadata": {},
   "source": [
    "2. New Customer Revenue e.g., new customers not present in previous year only"
   ]
  },
  {
   "cell_type": "code",
   "execution_count": 5,
   "metadata": {},
   "outputs": [
    {
     "name": "stdout",
     "output_type": "stream",
     "text": [
      "New Customer Revenue 2017: $ [(28676607.64,)]\n"
     ]
    }
   ],
   "source": [
    "# Total new Customer Revenue e.g. new customer revenue from 2017 only\n",
    "cursor.execute('''\n",
    "SELECT round(sum(net_revenue),2) FROM CASESTUDY \n",
    "WHERE year = 2017 AND customer_email NOT IN( SELECT DISTINCT customer_email FROM CASESTUDY WHERE year < 2017)\n",
    "''')\n",
    "\n",
    "print(\"New Customer Revenue 2017: $\", cursor.fetchall())"
   ]
  },
  {
   "cell_type": "markdown",
   "metadata": {},
   "source": [
    "3. Existing Customer Growth. To calculate this, use the Revenue of existing customers for current year –(minus) Revenue of existing customers from the previous year"
   ]
  },
  {
   "cell_type": "code",
   "execution_count": 6,
   "metadata": {},
   "outputs": [
    {
     "name": "stdout",
     "output_type": "stream",
     "text": [
      "Existing Customer Revenue 2017: $ [(2740887.39,)]\n"
     ]
    }
   ],
   "source": [
    "# Revenue of existing customers for current year i.e.customers exisiting prior to 2017 and revenue from 2017\n",
    "cursor.execute('''\n",
    "SELECT round(sum(net_revenue),2) FROM CASESTUDY\n",
    "WHERE year = 2017 AND customer_email IN( SELECT DISTINCT customer_email FROM CASESTUDY WHERE year < 2017)\n",
    "''')\n",
    "\n",
    "print(\"Existing Customer Revenue 2017: $\", cursor.fetchall())"
   ]
  },
  {
   "cell_type": "markdown",
   "metadata": {},
   "source": [
    "4. Revenue lost from attrition"
   ]
  },
  {
   "cell_type": "code",
   "execution_count": 7,
   "metadata": {},
   "outputs": [
    {
     "name": "stdout",
     "output_type": "stream",
     "text": [
      "Total Revenue lost in attrition between 2016 and 2017): $ [(5686551.440000001,)]\n"
     ]
    }
   ],
   "source": [
    "# Revenue lost from attrition e.g. revenue lost between 2016 and 2017\n",
    "cursor.execute('''\n",
    "SELECT (SELECT round(sum(net_revenue),2) FROM CASESTUDY WHERE year = 2017) - (SELECT round(sum(net_revenue),2)\n",
    "FROM CASESTUDY  WHERE year = 2016) \n",
    "''')\n",
    "\n",
    "print(\"Total Revenue lost from attrition between 2016 and 2017): $\", cursor.fetchall())"
   ]
  },
  {
   "cell_type": "markdown",
   "metadata": {},
   "source": [
    "5. Existing Customer Revenue Current Year"
   ]
  },
  {
   "cell_type": "code",
   "execution_count": 8,
   "metadata": {},
   "outputs": [
    {
     "name": "stdout",
     "output_type": "stream",
     "text": [
      "Revenue for 2017 from exsiting customers: [(31417495.03,)]\n"
     ]
    }
   ],
   "source": [
    "# Existing Customer Revenue Current Year i.e.customer email from 2017 and revenue from 2017\n",
    "cursor.execute('''\n",
    "SELECT round(sum(net_revenue),2) FROM CASESTUDY\n",
    "WHERE year = 2017 AND customer_email IN(SELECT DISTINCT customer_email FROM CASESTUDY as C WHERE year = 2017)\n",
    "''')\n",
    "\n",
    "print(\"Existing Customer Revenue for current year = 2017:\", cursor.fetchall())"
   ]
  },
  {
   "cell_type": "markdown",
   "metadata": {},
   "source": [
    "6. Existing Customer Revenue Prior Year"
   ]
  },
  {
   "cell_type": "code",
   "execution_count": 9,
   "metadata": {},
   "outputs": [
    {
     "name": "stdout",
     "output_type": "stream",
     "text": [
      "Revenue for 2016 from exsiting customers: [(2620648.65,)]\n"
     ]
    }
   ],
   "source": [
    "# Existing Customer Revenue Prior Year i.e. current customer email from 2017 but revenue for 2016\n",
    "cursor.execute('''\n",
    "SELECT round(sum(net_revenue),2) FROM CASESTUDY\n",
    "WHERE year = 2016 AND customer_email IN(SELECT DISTINCT customer_email FROM CASESTUDY WHERE year = 2017)\n",
    "''')\n",
    "\n",
    "print(\"Existing Customer Revenue for previous year = 2016:\", cursor.fetchall())"
   ]
  },
  {
   "cell_type": "markdown",
   "metadata": {},
   "source": [
    "7. Total Customers Current Year"
   ]
  },
  {
   "cell_type": "code",
   "execution_count": 10,
   "metadata": {},
   "outputs": [
    {
     "name": "stdout",
     "output_type": "stream",
     "text": [
      "Total Customers in 2017:  [(249987,)]\n"
     ]
    }
   ],
   "source": [
    "# total number of customers in current year i.e. 2017\n",
    "cursor.execute('''\n",
    "SELECT count(DISTINCT customer_email) FROM CASESTUDY\n",
    "WHERE year = 2017\n",
    "''')\n",
    "\n",
    "print(\"Total Customers in current year = 2017: \", cursor.fetchall())"
   ]
  },
  {
   "cell_type": "markdown",
   "metadata": {},
   "source": [
    "8. Total Customers Previous Year"
   ]
  },
  {
   "cell_type": "code",
   "execution_count": 11,
   "metadata": {},
   "outputs": [
    {
     "name": "stdout",
     "output_type": "stream",
     "text": [
      "Total Customers in 2016:  [(204646,)]\n"
     ]
    }
   ],
   "source": [
    "# total number of customers in previous year i.e. 2016\n",
    "cursor.execute('''\n",
    "SELECT count(DISTINCT customer_email) FROM CASESTUDY\n",
    "WHERE year = 2016\n",
    "''')\n",
    "\n",
    "print(\"Total Customers in previous year = 2016: \", cursor.fetchall())"
   ]
  },
  {
   "cell_type": "markdown",
   "metadata": {},
   "source": [
    "9. New Customers"
   ]
  },
  {
   "cell_type": "code",
   "execution_count": 12,
   "metadata": {},
   "outputs": [
    {
     "name": "stdout",
     "output_type": "stream",
     "text": [
      "New Customers in 2017 only:  [(228262,)]\n"
     ]
    }
   ],
   "source": [
    "# new total customers in 2017 only\n",
    "cursor.execute('''\n",
    "SELECT count(DISTINCT customer_email) FROM CASESTUDY \n",
    "WHERE year = 2017 and customer_email NOT IN(SELECT DISTINCT customer_email FROM CASESTUDY WHERE year < 2017)\n",
    "''')\n",
    "\n",
    "print(\"New Customers in 2017: \", cursor.fetchall())"
   ]
  },
  {
   "cell_type": "markdown",
   "metadata": {},
   "source": [
    "10. Lost Customers"
   ]
  },
  {
   "cell_type": "code",
   "execution_count": 13,
   "metadata": {},
   "outputs": [
    {
     "name": "stdout",
     "output_type": "stream",
     "text": [
      "Customers lost in 2017:  [(354631,)]\n"
     ]
    }
   ],
   "source": [
    "# lost customers i.e. customers in previous years but not in 2017\n",
    "cursor.execute('''\n",
    "SELECT count(DISTINCT customer_email) FROM CASESTUDY\n",
    "WHERE year < 2017 AND customer_email NOT IN (SELECT DISTINCT customer_email FROM CASESTUDY WHERE year = 2017)\n",
    "''')\n",
    "\n",
    "print(\"Customers lost in 2017: \", cursor.fetchall())\n",
    "conn.close()"
   ]
  }
 ],
 "metadata": {
  "kernelspec": {
   "display_name": "Python 3",
   "language": "python",
   "name": "python3"
  },
  "language_info": {
   "codemirror_mode": {
    "name": "ipython",
    "version": 3
   },
   "file_extension": ".py",
   "mimetype": "text/x-python",
   "name": "python",
   "nbconvert_exporter": "python",
   "pygments_lexer": "ipython3",
   "version": "3.7.3"
  }
 },
 "nbformat": 4,
 "nbformat_minor": 2
}
